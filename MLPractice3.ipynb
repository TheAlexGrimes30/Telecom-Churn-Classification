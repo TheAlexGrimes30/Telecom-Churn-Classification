{
 "cells": [
  {
   "cell_type": "markdown",
   "source": [
    "Гопиенко Александр\n",
    "КИ22-17/2Б\n",
    "Практическая работа №3 по машинному обучению\n",
    "Задание №1"
   ],
   "metadata": {
    "collapsed": false
   },
   "id": "5aa7639803b3f416"
  },
  {
   "cell_type": "code",
   "execution_count": 1,
   "outputs": [],
   "source": [
    "import pandas as pd\n",
    "import matplotlib.pyplot as plt\n",
    "import seaborn as sns\n",
    "from sklearn.preprocessing import OneHotEncoder, StandardScaler, MinMaxScaler\n",
    "from sklearn.impute import KNNImputer\n",
    "from sklearn.neighbors import KNeighborsClassifier\n",
    "from sklearn.linear_model import LogisticRegression\n",
    "from sklearn.svm import SVC\n",
    "from sklearn.model_selection import train_test_split, cross_val_score, GridSearchCV, StratifiedKFold\n",
    "from sklearn.metrics import accuracy_score, precision_score, recall_score, f1_score, roc_auc_score, roc_curve, confusion_matrix"
   ],
   "metadata": {
    "collapsed": false,
    "ExecuteTime": {
     "end_time": "2024-01-30T07:49:45.421091500Z",
     "start_time": "2024-01-30T07:49:43.209606Z"
    }
   },
   "id": "8aa29bb3c2217c9b"
  },
  {
   "cell_type": "markdown",
   "source": [
    "Выполним проверку на наличие пропусков в датафрейме"
   ],
   "metadata": {
    "collapsed": false
   },
   "id": "fdef0c7bf3b5583b"
  },
  {
   "cell_type": "code",
   "execution_count": 2,
   "outputs": [
    {
     "name": "stdout",
     "output_type": "stream",
     "text": [
      "State                     0\n",
      "Account length            0\n",
      "Area code                 0\n",
      "International plan        0\n",
      "Voice mail plan           0\n",
      "Number vmail messages     0\n",
      "Total day minutes         0\n",
      "Total day calls           0\n",
      "Total day charge          0\n",
      "Total eve minutes         0\n",
      "Total eve calls           0\n",
      "Total eve charge          0\n",
      "Total night minutes       0\n",
      "Total night calls         0\n",
      "Total night charge        0\n",
      "Total intl minutes        0\n",
      "Total intl calls          0\n",
      "Total intl charge         0\n",
      "Customer service calls    0\n",
      "Churn                     0\n",
      "dtype: int64\n"
     ]
    }
   ],
   "source": [
    "df = pd.read_csv(\"telecom_churn.csv\")\n",
    "missing_values = df.isnull().sum()\n",
    "print(missing_values)"
   ],
   "metadata": {
    "collapsed": false,
    "ExecuteTime": {
     "end_time": "2024-01-30T07:49:45.578813Z",
     "start_time": "2024-01-30T07:49:45.416873100Z"
    }
   },
   "id": "b65c92bd96a1dfeb"
  },
  {
   "cell_type": "markdown",
   "source": [
    "Выполним кодирование категориальных признаков"
   ],
   "metadata": {
    "collapsed": false
   },
   "id": "13eb5a6b8281471a"
  },
  {
   "cell_type": "code",
   "execution_count": 3,
   "outputs": [
    {
     "name": "stdout",
     "output_type": "stream",
     "text": [
      "<class 'pandas.core.frame.DataFrame'>\n",
      "RangeIndex: 3333 entries, 0 to 3332\n",
      "Data columns (total 69 columns):\n",
      " #   Column                  Non-Null Count  Dtype  \n",
      "---  ------                  --------------  -----  \n",
      " 0   Account length          3333 non-null   int64  \n",
      " 1   Area code               3333 non-null   int64  \n",
      " 2   Number vmail messages   3333 non-null   int64  \n",
      " 3   Total day minutes       3333 non-null   float64\n",
      " 4   Total day calls         3333 non-null   int64  \n",
      " 5   Total day charge        3333 non-null   float64\n",
      " 6   Total eve minutes       3333 non-null   float64\n",
      " 7   Total eve calls         3333 non-null   int64  \n",
      " 8   Total eve charge        3333 non-null   float64\n",
      " 9   Total night minutes     3333 non-null   float64\n",
      " 10  Total night calls       3333 non-null   int64  \n",
      " 11  Total night charge      3333 non-null   float64\n",
      " 12  Total intl minutes      3333 non-null   float64\n",
      " 13  Total intl calls        3333 non-null   int64  \n",
      " 14  Total intl charge       3333 non-null   float64\n",
      " 15  Customer service calls  3333 non-null   int64  \n",
      " 16  Churn                   3333 non-null   int32  \n",
      " 17  State_AL                3333 non-null   float64\n",
      " 18  State_AR                3333 non-null   float64\n",
      " 19  State_AZ                3333 non-null   float64\n",
      " 20  State_CA                3333 non-null   float64\n",
      " 21  State_CO                3333 non-null   float64\n",
      " 22  State_CT                3333 non-null   float64\n",
      " 23  State_DC                3333 non-null   float64\n",
      " 24  State_DE                3333 non-null   float64\n",
      " 25  State_FL                3333 non-null   float64\n",
      " 26  State_GA                3333 non-null   float64\n",
      " 27  State_HI                3333 non-null   float64\n",
      " 28  State_IA                3333 non-null   float64\n",
      " 29  State_ID                3333 non-null   float64\n",
      " 30  State_IL                3333 non-null   float64\n",
      " 31  State_IN                3333 non-null   float64\n",
      " 32  State_KS                3333 non-null   float64\n",
      " 33  State_KY                3333 non-null   float64\n",
      " 34  State_LA                3333 non-null   float64\n",
      " 35  State_MA                3333 non-null   float64\n",
      " 36  State_MD                3333 non-null   float64\n",
      " 37  State_ME                3333 non-null   float64\n",
      " 38  State_MI                3333 non-null   float64\n",
      " 39  State_MN                3333 non-null   float64\n",
      " 40  State_MO                3333 non-null   float64\n",
      " 41  State_MS                3333 non-null   float64\n",
      " 42  State_MT                3333 non-null   float64\n",
      " 43  State_NC                3333 non-null   float64\n",
      " 44  State_ND                3333 non-null   float64\n",
      " 45  State_NE                3333 non-null   float64\n",
      " 46  State_NH                3333 non-null   float64\n",
      " 47  State_NJ                3333 non-null   float64\n",
      " 48  State_NM                3333 non-null   float64\n",
      " 49  State_NV                3333 non-null   float64\n",
      " 50  State_NY                3333 non-null   float64\n",
      " 51  State_OH                3333 non-null   float64\n",
      " 52  State_OK                3333 non-null   float64\n",
      " 53  State_OR                3333 non-null   float64\n",
      " 54  State_PA                3333 non-null   float64\n",
      " 55  State_RI                3333 non-null   float64\n",
      " 56  State_SC                3333 non-null   float64\n",
      " 57  State_SD                3333 non-null   float64\n",
      " 58  State_TN                3333 non-null   float64\n",
      " 59  State_TX                3333 non-null   float64\n",
      " 60  State_UT                3333 non-null   float64\n",
      " 61  State_VA                3333 non-null   float64\n",
      " 62  State_VT                3333 non-null   float64\n",
      " 63  State_WA                3333 non-null   float64\n",
      " 64  State_WI                3333 non-null   float64\n",
      " 65  State_WV                3333 non-null   float64\n",
      " 66  State_WY                3333 non-null   float64\n",
      " 67  International plan_Yes  3333 non-null   float64\n",
      " 68  Voice mail plan_Yes     3333 non-null   float64\n",
      "dtypes: float64(60), int32(1), int64(8)\n",
      "memory usage: 1.7 MB\n"
     ]
    }
   ],
   "source": [
    "df['Churn'] = df['Churn'].astype(int)\n",
    "encoder = OneHotEncoder(sparse_output=False, drop='first')\n",
    "categorical_features = df.select_dtypes(include=['object']).columns\n",
    "encoded_features = encoder.fit_transform(df[categorical_features])\n",
    "df_encoded = pd.DataFrame(encoded_features, columns=encoder.get_feature_names_out(categorical_features))\n",
    "df = pd.concat([df, df_encoded], axis=1)\n",
    "df.drop(categorical_features, axis=1, inplace=True)\n",
    "df.info()"
   ],
   "metadata": {
    "collapsed": false,
    "ExecuteTime": {
     "end_time": "2024-01-30T07:49:45.755246900Z",
     "start_time": "2024-01-30T07:49:45.586575100Z"
    }
   },
   "id": "e9eab0c16d025b58"
  },
  {
   "cell_type": "markdown",
   "source": [
    "Выполним проверку на наличие выбросов с помощью межквартильных интервалов"
   ],
   "metadata": {
    "collapsed": false
   },
   "id": "9db75cb10d84e816"
  },
  {
   "cell_type": "code",
   "execution_count": 4,
   "outputs": [
    {
     "name": "stdout",
     "output_type": "stream",
     "text": [
      "Количество выбросов в столбце 'Account length': 18 (0.01)\n",
      "Количество выбросов в столбце 'Area code': 0 (0.0)\n",
      "Количество выбросов в столбце 'Number vmail messages': 1 (0.0)\n",
      "Количество выбросов в столбце 'Total day minutes': 25 (0.01)\n",
      "Количество выбросов в столбце 'Total day calls': 23 (0.01)\n",
      "Количество выбросов в столбце 'Total day charge': 25 (0.01)\n",
      "Количество выбросов в столбце 'Total eve minutes': 24 (0.01)\n",
      "Количество выбросов в столбце 'Total eve calls': 20 (0.01)\n",
      "Количество выбросов в столбце 'Total eve charge': 24 (0.01)\n",
      "Количество выбросов в столбце 'Total night minutes': 30 (0.01)\n",
      "Количество выбросов в столбце 'Total night calls': 22 (0.01)\n",
      "Количество выбросов в столбце 'Total night charge': 30 (0.01)\n",
      "Количество выбросов в столбце 'Total intl minutes': 46 (0.01)\n",
      "Количество выбросов в столбце 'Total intl calls': 78 (0.02)\n",
      "Количество выбросов в столбце 'Total intl charge': 49 (0.01)\n",
      "Количество выбросов в столбце 'Customer service calls': 267 (0.08)\n",
      "Количество выбросов в столбце 'Churn': 483 (0.14)\n",
      "Количество выбросов в столбце 'State_AL': 80 (0.02)\n",
      "Количество выбросов в столбце 'State_AR': 55 (0.02)\n",
      "Количество выбросов в столбце 'State_AZ': 64 (0.02)\n",
      "Количество выбросов в столбце 'State_CA': 34 (0.01)\n",
      "Количество выбросов в столбце 'State_CO': 66 (0.02)\n",
      "Количество выбросов в столбце 'State_CT': 74 (0.02)\n",
      "Количество выбросов в столбце 'State_DC': 54 (0.02)\n",
      "Количество выбросов в столбце 'State_DE': 61 (0.02)\n",
      "Количество выбросов в столбце 'State_FL': 63 (0.02)\n",
      "Количество выбросов в столбце 'State_GA': 54 (0.02)\n",
      "Количество выбросов в столбце 'State_HI': 53 (0.02)\n",
      "Количество выбросов в столбце 'State_IA': 44 (0.01)\n",
      "Количество выбросов в столбце 'State_ID': 73 (0.02)\n",
      "Количество выбросов в столбце 'State_IL': 58 (0.02)\n",
      "Количество выбросов в столбце 'State_IN': 71 (0.02)\n",
      "Количество выбросов в столбце 'State_KS': 70 (0.02)\n",
      "Количество выбросов в столбце 'State_KY': 59 (0.02)\n",
      "Количество выбросов в столбце 'State_LA': 51 (0.02)\n",
      "Количество выбросов в столбце 'State_MA': 65 (0.02)\n",
      "Количество выбросов в столбце 'State_MD': 70 (0.02)\n",
      "Количество выбросов в столбце 'State_ME': 62 (0.02)\n",
      "Количество выбросов в столбце 'State_MI': 73 (0.02)\n",
      "Количество выбросов в столбце 'State_MN': 84 (0.03)\n",
      "Количество выбросов в столбце 'State_MO': 63 (0.02)\n",
      "Количество выбросов в столбце 'State_MS': 65 (0.02)\n",
      "Количество выбросов в столбце 'State_MT': 68 (0.02)\n",
      "Количество выбросов в столбце 'State_NC': 68 (0.02)\n",
      "Количество выбросов в столбце 'State_ND': 62 (0.02)\n",
      "Количество выбросов в столбце 'State_NE': 61 (0.02)\n",
      "Количество выбросов в столбце 'State_NH': 56 (0.02)\n",
      "Количество выбросов в столбце 'State_NJ': 68 (0.02)\n",
      "Количество выбросов в столбце 'State_NM': 62 (0.02)\n",
      "Количество выбросов в столбце 'State_NV': 66 (0.02)\n",
      "Количество выбросов в столбце 'State_NY': 83 (0.02)\n",
      "Количество выбросов в столбце 'State_OH': 78 (0.02)\n",
      "Количество выбросов в столбце 'State_OK': 61 (0.02)\n",
      "Количество выбросов в столбце 'State_OR': 78 (0.02)\n",
      "Количество выбросов в столбце 'State_PA': 45 (0.01)\n",
      "Количество выбросов в столбце 'State_RI': 65 (0.02)\n",
      "Количество выбросов в столбце 'State_SC': 60 (0.02)\n",
      "Количество выбросов в столбце 'State_SD': 60 (0.02)\n",
      "Количество выбросов в столбце 'State_TN': 53 (0.02)\n",
      "Количество выбросов в столбце 'State_TX': 72 (0.02)\n",
      "Количество выбросов в столбце 'State_UT': 72 (0.02)\n",
      "Количество выбросов в столбце 'State_VA': 77 (0.02)\n",
      "Количество выбросов в столбце 'State_VT': 73 (0.02)\n",
      "Количество выбросов в столбце 'State_WA': 66 (0.02)\n",
      "Количество выбросов в столбце 'State_WI': 78 (0.02)\n",
      "Количество выбросов в столбце 'State_WV': 106 (0.03)\n",
      "Количество выбросов в столбце 'State_WY': 77 (0.02)\n",
      "Количество выбросов в столбце 'International plan_Yes': 323 (0.1)\n",
      "Количество выбросов в столбце 'Voice mail plan_Yes': 0 (0.0)\n"
     ]
    }
   ],
   "source": [
    "def detect_outliers(column):\n",
    "    Q1 = column.quantile(0.25)\n",
    "    Q3 = column.quantile(0.75)\n",
    "    IQR = Q3 - Q1\n",
    "\n",
    "    lower_bound = Q1 - 1.5 * IQR\n",
    "    upper_bound = Q3 + 1.5 * IQR\n",
    "\n",
    "    outliers = (column < lower_bound) | (column > upper_bound)\n",
    "    return outliers\n",
    "\n",
    "for column in df.columns:\n",
    "    if pd.api.types.is_numeric_dtype(df[column]):\n",
    "        outliers = detect_outliers(df[column])\n",
    "        print(f\"Количество выбросов в столбце '{column}': {outliers.sum()} ({round((outliers.sum() /df[column].size), 2)})\")\n",
    "        "
   ],
   "metadata": {
    "collapsed": false,
    "ExecuteTime": {
     "end_time": "2024-01-30T07:49:45.757247300Z",
     "start_time": "2024-01-30T07:49:45.620651400Z"
    }
   },
   "id": "9256729316f557c8"
  },
  {
   "cell_type": "raw",
   "source": [
    "Удалим выбросы"
   ],
   "metadata": {
    "collapsed": false
   },
   "id": "f8585f18a7af06a"
  },
  {
   "cell_type": "code",
   "execution_count": 0,
   "outputs": [],
   "source": [
    "column_to_check = df.iloc[:, :16]\n",
    "df_res = df.iloc[:, 16:]\n",
    "Q1 = column_to_check.quantile(0.25)\n",
    "Q3 = column_to_check.quantile(0.75)\n",
    "\n",
    "# Рассчитываем межквартильный размах (IQR)\n",
    "IQR = Q3 - Q1\n",
    "\n",
    "# Определяем границы для определения выбросов\n",
    "lower_bound = Q1 - 1.5 * IQR\n",
    "upper_bound = Q3 + 1.5 * IQR\n",
    "\n",
    "\n",
    "# Фильтруем строки, удаляя выбросы\n",
    "column_to_check = column_to_check[(column_to_check >= lower_bound) & (column_to_check <= upper_bound)]\n",
    "df = pd.concat([column_to_check, df_res], axis=1)\n",
    "\n",
    "for column in df.columns:\n",
    "    if pd.api.types.is_numeric_dtype(df[column]):\n",
    "        outliers = detect_outliers(df[column])\n",
    "        print(f\"Количество выбросов в столбце '{column}': {outliers.sum()} ({round((outliers.sum() /df[column].size), 2)})\")"
   ],
   "metadata": {
    "collapsed": false
   },
   "id": "6d91b07938f42976"
  },
  {
   "cell_type": "raw",
   "source": [
    "Избавимся от образовавшихся пропусков\n",
    "Для начала выполним нормализацию данных"
   ],
   "metadata": {
    "collapsed": false
   },
   "id": "921a8916516168d3"
  },
  {
   "cell_type": "code",
   "execution_count": 6,
   "outputs": [
    {
     "name": "stdout",
     "output_type": "stream",
     "text": [
      "<class 'pandas.core.frame.DataFrame'>\n",
      "RangeIndex: 3333 entries, 0 to 3332\n",
      "Data columns (total 69 columns):\n",
      " #   Column                  Non-Null Count  Dtype  \n",
      "---  ------                  --------------  -----  \n",
      " 0   Account length          3333 non-null   float64\n",
      " 1   Area code               3333 non-null   float64\n",
      " 2   Number vmail messages   3333 non-null   float64\n",
      " 3   Total day minutes       3333 non-null   float64\n",
      " 4   Total day calls         3333 non-null   float64\n",
      " 5   Total day charge        3333 non-null   float64\n",
      " 6   Total eve minutes       3333 non-null   float64\n",
      " 7   Total eve calls         3333 non-null   float64\n",
      " 8   Total eve charge        3333 non-null   float64\n",
      " 9   Total night minutes     3333 non-null   float64\n",
      " 10  Total night calls       3333 non-null   float64\n",
      " 11  Total night charge      3333 non-null   float64\n",
      " 12  Total intl minutes      3333 non-null   float64\n",
      " 13  Total intl calls        3333 non-null   float64\n",
      " 14  Total intl charge       3333 non-null   float64\n",
      " 15  Customer service calls  3333 non-null   float64\n",
      " 16  Churn                   3333 non-null   float64\n",
      " 17  State_AL                3333 non-null   float64\n",
      " 18  State_AR                3333 non-null   float64\n",
      " 19  State_AZ                3333 non-null   float64\n",
      " 20  State_CA                3333 non-null   float64\n",
      " 21  State_CO                3333 non-null   float64\n",
      " 22  State_CT                3333 non-null   float64\n",
      " 23  State_DC                3333 non-null   float64\n",
      " 24  State_DE                3333 non-null   float64\n",
      " 25  State_FL                3333 non-null   float64\n",
      " 26  State_GA                3333 non-null   float64\n",
      " 27  State_HI                3333 non-null   float64\n",
      " 28  State_IA                3333 non-null   float64\n",
      " 29  State_ID                3333 non-null   float64\n",
      " 30  State_IL                3333 non-null   float64\n",
      " 31  State_IN                3333 non-null   float64\n",
      " 32  State_KS                3333 non-null   float64\n",
      " 33  State_KY                3333 non-null   float64\n",
      " 34  State_LA                3333 non-null   float64\n",
      " 35  State_MA                3333 non-null   float64\n",
      " 36  State_MD                3333 non-null   float64\n",
      " 37  State_ME                3333 non-null   float64\n",
      " 38  State_MI                3333 non-null   float64\n",
      " 39  State_MN                3333 non-null   float64\n",
      " 40  State_MO                3333 non-null   float64\n",
      " 41  State_MS                3333 non-null   float64\n",
      " 42  State_MT                3333 non-null   float64\n",
      " 43  State_NC                3333 non-null   float64\n",
      " 44  State_ND                3333 non-null   float64\n",
      " 45  State_NE                3333 non-null   float64\n",
      " 46  State_NH                3333 non-null   float64\n",
      " 47  State_NJ                3333 non-null   float64\n",
      " 48  State_NM                3333 non-null   float64\n",
      " 49  State_NV                3333 non-null   float64\n",
      " 50  State_NY                3333 non-null   float64\n",
      " 51  State_OH                3333 non-null   float64\n",
      " 52  State_OK                3333 non-null   float64\n",
      " 53  State_OR                3333 non-null   float64\n",
      " 54  State_PA                3333 non-null   float64\n",
      " 55  State_RI                3333 non-null   float64\n",
      " 56  State_SC                3333 non-null   float64\n",
      " 57  State_SD                3333 non-null   float64\n",
      " 58  State_TN                3333 non-null   float64\n",
      " 59  State_TX                3333 non-null   float64\n",
      " 60  State_UT                3333 non-null   float64\n",
      " 61  State_VA                3333 non-null   float64\n",
      " 62  State_VT                3333 non-null   float64\n",
      " 63  State_WA                3333 non-null   float64\n",
      " 64  State_WI                3333 non-null   float64\n",
      " 65  State_WV                3333 non-null   float64\n",
      " 66  State_WY                3333 non-null   float64\n",
      " 67  International plan_Yes  3333 non-null   float64\n",
      " 68  Voice mail plan_Yes     3333 non-null   float64\n",
      "dtypes: float64(69)\n",
      "memory usage: 1.8 MB\n"
     ]
    }
   ],
   "source": [
    "scaler = MinMaxScaler()\n",
    "normalized_data = scaler.fit_transform(df)\n",
    "df = pd.DataFrame(normalized_data, columns=df.columns)\n",
    "\n",
    "imputer = KNNImputer()\n",
    "df_filled = imputer.fit_transform(df)\n",
    "df = pd.DataFrame(df_filled, columns=df.columns)\n",
    "df.info()"
   ],
   "metadata": {
    "collapsed": false,
    "ExecuteTime": {
     "end_time": "2024-01-30T07:49:46.286723600Z",
     "start_time": "2024-01-30T07:49:45.896303400Z"
    }
   },
   "id": "237960f24ed58c1f"
  },
  {
   "cell_type": "markdown",
   "source": [
    "Выполним стандартизацию данных"
   ],
   "metadata": {
    "collapsed": false
   },
   "id": "2d787d06883c7cf6"
  },
  {
   "cell_type": "code",
   "execution_count": 7,
   "outputs": [],
   "source": [
    "columns_except_one = [col for col in df.columns if col != 'Churn']\n",
    "X = df[columns_except_one]\n",
    "y = df['Churn']\n",
    "scaler = StandardScaler()\n",
    "scaled_data = scaler.fit_transform(X)\n",
    "df = pd.DataFrame(scaled_data, columns=X.columns)\n",
    "df = pd.concat([df, y], axis=1)\n",
    "columns_except_one = [col for col in df.columns if col != 'Churn']\n",
    "X = df[columns_except_one]\n",
    "y = df['Churn']"
   ],
   "metadata": {
    "collapsed": false,
    "ExecuteTime": {
     "end_time": "2024-01-30T07:49:46.310903800Z",
     "start_time": "2024-01-30T07:49:46.282723300Z"
    }
   },
   "id": "c29bb569bb4a8c4b"
  },
  {
   "cell_type": "markdown",
   "source": [
    "Выполним обучение ML-моделей с помощью кросс-валидации"
   ],
   "metadata": {
    "collapsed": false
   },
   "id": "a2f2e4d1cca17e3e"
  },
  {
   "cell_type": "code",
   "execution_count": 8,
   "outputs": [
    {
     "name": "stdout",
     "output_type": "stream",
     "text": [
      "KNN:\n",
      "Accuracy: 0.8544631124790072\n",
      "Precision: 0.6519728637898603\n",
      "Recall: 0.5226808691711374\n",
      "F1-score: 0.5109897697567247\n",
      "\n",
      "Best parameters for KNN: {'n_neighbors': 7}\n",
      "\n",
      "Logistic Regression:\n",
      "Accuracy: 0.8649626522194349\n",
      "Precision: 0.7449507689991318\n",
      "Recall: 0.5810474814448096\n",
      "F1-score: 0.6021892185449603\n",
      "Best parameters for Logistic Regression: {'C': 10}\n",
      "\n",
      "Support Vector Machine:\n",
      "Accuracy: 0.860465459451483\n",
      "Precision: 0.8405160249550395\n",
      "Recall: 0.5174256820188525\n",
      "F1-score: 0.49699784787149304\n",
      "Best parameters for SVM: {'C': 1, 'gamma': 'scale', 'kernel': 'rbf'}\n"
     ]
    }
   ],
   "source": [
    "X = X.to_numpy()\n",
    "y = y.to_numpy()\n",
    "\n",
    "# Разделение данных на обучающий и тестовый наборы\n",
    "X_train, X_test, y_train, y_test = train_test_split(X, y, test_size=0.2, random_state=42)\n",
    "\n",
    "stratified_kfold = StratifiedKFold(n_splits=5, shuffle=True, random_state=42)\n",
    "\n",
    "# Модель k-ближайших соседей\n",
    "knn_model = KNeighborsClassifier()\n",
    "\n",
    "# Обучение KNN модели с использованием кросс-валидации и вычисление значений метрик\n",
    "knn_accuracy = cross_val_score(knn_model, X_train, y_train, cv=stratified_kfold, scoring='accuracy').mean()\n",
    "knn_precision = cross_val_score(knn_model, X_train, y_train, cv=stratified_kfold, scoring='precision_macro').mean()\n",
    "knn_recall = cross_val_score(knn_model, X_train, y_train, cv=stratified_kfold, scoring='recall_macro').mean()\n",
    "knn_f1 = cross_val_score(knn_model, X_train, y_train, cv=stratified_kfold, scoring='f1_macro').mean()\n",
    "\n",
    "# Подбор параметров модели по кросс-валидации с использованием GridSearchCV\n",
    "knn_param_grid = {'n_neighbors': [3, 5, 7, 9]}\n",
    "knn_grid_search = GridSearchCV(knn_model, knn_param_grid, cv=stratified_kfold)\n",
    "knn_grid_search.fit(X_train, y_train)\n",
    "\n",
    "# Вывод значений метрик для KNN\n",
    "print(\"KNN:\")\n",
    "print(\"Accuracy:\", knn_accuracy)\n",
    "print(\"Precision:\", knn_precision)\n",
    "print(\"Recall:\", knn_recall)\n",
    "print(\"F1-score:\", knn_f1)\n",
    "\n",
    "# Вывод лучших параметров для KNN\n",
    "print(\"\\nBest parameters for KNN:\", knn_grid_search.best_params_)\n",
    "\n",
    "# Логистическая регрессия\n",
    "logreg_model = LogisticRegression(max_iter=1000)\n",
    "\n",
    "# Обучение LogReg модели с использованием кросс-валидации и вычисление значений метрик\n",
    "logreg_accuracy = cross_val_score(logreg_model, X_train, y_train, cv=stratified_kfold, scoring='accuracy').mean()\n",
    "logreg_precision = cross_val_score(logreg_model, X_train, y_train, cv=stratified_kfold, scoring='precision_macro').mean()\n",
    "logreg_recall = cross_val_score(logreg_model, X_train, y_train, cv=stratified_kfold, scoring='recall_macro').mean()\n",
    "logreg_f1 = cross_val_score(logreg_model, X_train, y_train, cv=stratified_kfold, scoring='f1_macro').mean()\n",
    "\n",
    "# Подбор параметров модели по кросс-валидации с использованием GridSearchCV\n",
    "logreg_param_grid = {'C': [0.1, 1, 10]}\n",
    "logreg_grid_search = GridSearchCV(logreg_model, logreg_param_grid, cv=stratified_kfold)\n",
    "logreg_grid_search.fit(X_train, y_train)\n",
    "\n",
    "# Вывод значений метрик для логистической регрессии\n",
    "print(\"\\nLogistic Regression:\")\n",
    "print(\"Accuracy:\", logreg_accuracy)\n",
    "print(\"Precision:\", logreg_precision)\n",
    "print(\"Recall:\", logreg_recall)\n",
    "print(\"F1-score:\", logreg_f1)\n",
    "print(\"Best parameters for Logistic Regression:\", logreg_grid_search.best_params_)\n",
    "\n",
    "# Модель опорных векторов (SVM)\n",
    "svm_model = SVC()\n",
    "\n",
    "# Обучение SVM модели с использованием кросс-валидации и вычисление значений метрик\n",
    "svm_accuracy = cross_val_score(svm_model, X_train, y_train, cv=stratified_kfold, scoring='accuracy').mean()\n",
    "svm_precision = cross_val_score(svm_model, X_train, y_train, cv=stratified_kfold, scoring='precision_macro').mean()\n",
    "svm_recall = cross_val_score(svm_model, X_train, y_train, cv=stratified_kfold, scoring='recall_macro').mean()\n",
    "svm_f1 = cross_val_score(svm_model, X_train, y_train, cv=stratified_kfold, scoring='f1_macro').mean()\n",
    "\n",
    "# Подбор параметров модели по кросс-валидации с использованием GridSearchCV\n",
    "svm_param_grid = {'C': [0.1, 1, 10], 'gamma': ['scale', 'auto'], 'kernel': ['linear', 'poly', 'rbf', 'sigmoid']}\n",
    "svm_grid_search = GridSearchCV(svm_model, svm_param_grid, cv=stratified_kfold)\n",
    "svm_grid_search.fit(X_train, y_train)\n",
    "\n",
    "# Вывод значений метрик для SVM\n",
    "print(\"\\nSupport Vector Machine:\")\n",
    "print(\"Accuracy:\", svm_accuracy)\n",
    "print(\"Precision:\", svm_precision)\n",
    "print(\"Recall:\", svm_recall)\n",
    "print(\"F1-score:\", svm_f1)\n",
    "print(\"Best parameters for SVM:\", svm_grid_search.best_params_)"
   ],
   "metadata": {
    "collapsed": false,
    "ExecuteTime": {
     "end_time": "2024-01-30T07:51:11.073082200Z",
     "start_time": "2024-01-30T07:49:46.327182100Z"
    }
   },
   "id": "b879b738ce4b4f54"
  },
  {
   "cell_type": "markdown",
   "source": [
    "Сравним полученные результаты по метрикам"
   ],
   "metadata": {
    "collapsed": false
   },
   "id": "611a1b191f52e904"
  },
  {
   "cell_type": "code",
   "execution_count": 9,
   "outputs": [
    {
     "name": "stdout",
     "output_type": "stream",
     "text": [
      "Metrics for each model:\n",
      "KNN\n",
      "Accuracy: 0.8470764617691154\n",
      "Precision: 0.42857142857142855\n",
      "Recall: 0.0297029702970297\n",
      "F1-score: 0.05555555555555556\n",
      "\n",
      "Logistic Regression\n",
      "Accuracy: 0.8545727136431784\n",
      "Precision: 0.5714285714285714\n",
      "Recall: 0.15841584158415842\n",
      "F1-score: 0.24806201550387594\n",
      "\n",
      "SVM\n",
      "Accuracy: 0.8575712143928036\n",
      "Precision: 0.8\n",
      "Recall: 0.07920792079207921\n",
      "F1-score: 0.14414414414414414\n",
      "\n",
      "Best model based on ROC-AUC: SVM (ROC-AUC = 0.80)\n"
     ]
    }
   ],
   "source": [
    "models = {\n",
    "    'KNN': KNeighborsClassifier(n_neighbors=7),\n",
    "    'Logistic Regression': LogisticRegression(C=10),\n",
    "    'SVM': SVC(probability=True, C=1, gamma='scale', kernel='rbf')  \n",
    "}\n",
    "\n",
    "\n",
    "# Словарь для хранения метрик\n",
    "metrics = {\n",
    "    'Accuracy': accuracy_score,\n",
    "    'Precision': precision_score,\n",
    "    'Recall': recall_score,\n",
    "    'F1-score': f1_score\n",
    "}\n",
    "\n",
    "# Обучение моделей и сбор метрик\n",
    "results = {}\n",
    "roc_auc_scores = {}\n",
    "for name, model in models.items():\n",
    "    model.fit(X_train, y_train)\n",
    "    y_pred = model.predict(X_test)\n",
    "    scores = {}\n",
    "    for metric_name, metric_func in metrics.items():\n",
    "        scores[metric_name] = metric_func(y_test, y_pred)\n",
    "    results[name] = scores\n",
    "    \n",
    "    # Вычисление ROC-AUC\n",
    "    if hasattr(model, \"predict_proba\"):  # Проверка, поддерживает ли модель метод predict_proba\n",
    "        y_pred_proba = model.predict_proba(X_test)[:,1]\n",
    "        roc_auc_scores[name] = roc_auc_score(y_test, y_pred_proba)\n",
    "\n",
    "# Вывод метрик для каждой модели\n",
    "print(\"Metrics for each model:\")\n",
    "for name, scores in results.items():\n",
    "    print(name)\n",
    "    for metric_name, score in scores.items():\n",
    "        print(f\"{metric_name}: {score}\")\n",
    "    print()\n",
    "\n",
    "# Выбор лучшей модели по наибольшему значению ROC-AUC\n",
    "best_model = max(roc_auc_scores, key=roc_auc_scores.get)\n",
    "print(f\"Best model based on ROC-AUC: {best_model} (ROC-AUC = {roc_auc_scores[best_model]:.2f})\")"
   ],
   "metadata": {
    "collapsed": false,
    "ExecuteTime": {
     "end_time": "2024-01-30T07:51:13.329774900Z",
     "start_time": "2024-01-30T07:51:11.067080500Z"
    }
   },
   "id": "2b654ca80a5487c7"
  },
  {
   "cell_type": "markdown",
   "source": [
    "Построение ROC-кривой"
   ],
   "metadata": {
    "collapsed": false
   },
   "id": "1d16da567611f62b"
  },
  {
   "cell_type": "code",
   "execution_count": 10,
   "outputs": [
    {
     "data": {
      "text/plain": "<Figure size 800x600 with 1 Axes>",
      "image/png": "[encoded data removed]"
     },
     "metadata": {},
     "output_type": "display_data"
    }
   ],
   "source": [
    "plt.figure(figsize=(8, 6))\n",
    "for name, model in models.items():\n",
    "    if hasattr(model, \"predict_proba\"):  # Проверка, поддерживает ли модель метод predict_proba\n",
    "        y_pred_proba = model.predict_proba(X_test)[:,1]\n",
    "        fpr, tpr, _ = roc_curve(y_test, y_pred_proba)\n",
    "        plt.plot(fpr, tpr, label=f'{name} (ROC-AUC = {roc_auc_scores[name]:.2f})')\n",
    "\n",
    "plt.plot([0, 1], [0, 1], color='gray', linestyle='--')\n",
    "plt.xlabel('False Positive Rate')\n",
    "plt.ylabel('True Positive Rate')\n",
    "plt.title('ROC Curve')\n",
    "plt.legend()\n",
    "plt.show()"
   ],
   "metadata": {
    "collapsed": false,
    "ExecuteTime": {
     "end_time": "2024-01-30T07:51:14.689418200Z",
     "start_time": "2024-01-30T07:51:13.327771Z"
    }
   },
   "id": "dfc08e1e39afa7a"
  },
  {
   "cell_type": "markdown",
   "source": [
    "Визуализация результатов с помощью Confusion Matrix"
   ],
   "metadata": {
    "collapsed": false
   },
   "id": "ad46944aa50fae64"
  },
  {
   "cell_type": "code",
   "execution_count": 11,
   "outputs": [
    {
     "data": {
      "text/plain": "<Figure size 1500x500 with 3 Axes>",
      "image/png": "[encoded data removed]"
     },
     "metadata": {},
     "output_type": "display_data"
    }
   ],
   "source": [
    "plt.figure(figsize=(15, 5))\n",
    "for i, (name, model) in enumerate(models.items(), 1):\n",
    "    plt.subplot(1, len(models), i)\n",
    "    sns.heatmap(confusion_matrix(y_test, model.predict(X_test)), annot=True, fmt='d', cmap='Blues', cbar=False)\n",
    "    plt.title(f'Confusion Matrix: {name}')\n",
    "    plt.xlabel('Predicted Label')\n",
    "    plt.ylabel('True Label')\n",
    "plt.tight_layout()\n",
    "plt.show()"
   ],
   "metadata": {
    "collapsed": false,
    "ExecuteTime": {
     "end_time": "2024-01-30T07:51:15.493167500Z",
     "start_time": "2024-01-30T07:51:14.659408200Z"
    }
   },
   "id": "2ffae2eaea397be7"
  },
  {
   "cell_type": "markdown",
   "source": [
    "Вывод: Научился работать с задачами классификации, применять метрики, кросс-валидацию и GridSearchCV"
   ],
   "metadata": {
    "collapsed": false
   },
   "id": "a5e73d7274049d9b"
  },
  {
   "cell_type": "markdown",
   "source": [],
   "metadata": {
    "collapsed": false
   },
   "id": "e522ee8347db7574"
  }
 ],
 "metadata": {
  "kernelspec": {
   "display_name": "Python 3",
   "language": "python",
   "name": "python3"
  },
  "language_info": {
   "codemirror_mode": {
    "name": "ipython",
    "version": 2
   },
   "file_extension": ".py",
   "mimetype": "text/x-python",
   "name": "python",
   "nbconvert_exporter": "python",
   "pygments_lexer": "ipython2",
   "version": "2.7.6"
  }
 },
 "nbformat": 4,
 "nbformat_minor": 5
}
